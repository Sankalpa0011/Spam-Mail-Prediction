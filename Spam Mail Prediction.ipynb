{
 "cells": [
  {
   "cell_type": "markdown",
   "id": "dd30a542",
   "metadata": {},
   "source": [
    "## Import Libraries"
   ]
  },
  {
   "cell_type": "code",
   "execution_count": 1,
   "id": "067464a1",
   "metadata": {},
   "outputs": [],
   "source": [
    "import numpy as np\n",
    "import pandas as pd\n",
    "import seaborn as sns\n",
    "import matplotlib.pyplot as plt\n",
    "\n",
    "from sklearn.feature_extraction.text import TfidfVectorizer\n",
    "\n",
    "from sklearn.model_selection import train_test_split\n",
    "from sklearn.preprocessing import LabelEncoder\n",
    "from sklearn.linear_model import LogisticRegression\n",
    "from sklearn.metrics import accuracy_score, classification_report, confusion_matrix"
   ]
  },
  {
   "cell_type": "markdown",
   "id": "44c0d00b",
   "metadata": {},
   "source": [
    "## Data Preprocessing and Analysis"
   ]
  },
  {
   "cell_type": "code",
   "execution_count": 2,
   "id": "0e566df3",
   "metadata": {},
   "outputs": [
    {
     "data": {
      "text/html": [
       "<div>\n",
       "<style scoped>\n",
       "    .dataframe tbody tr th:only-of-type {\n",
       "        vertical-align: middle;\n",
       "    }\n",
       "\n",
       "    .dataframe tbody tr th {\n",
       "        vertical-align: top;\n",
       "    }\n",
       "\n",
       "    .dataframe thead th {\n",
       "        text-align: right;\n",
       "    }\n",
       "</style>\n",
       "<table border=\"1\" class=\"dataframe\">\n",
       "  <thead>\n",
       "    <tr style=\"text-align: right;\">\n",
       "      <th></th>\n",
       "      <th>Category</th>\n",
       "      <th>Message</th>\n",
       "    </tr>\n",
       "  </thead>\n",
       "  <tbody>\n",
       "    <tr>\n",
       "      <th>0</th>\n",
       "      <td>ham</td>\n",
       "      <td>Go until jurong point, crazy.. Available only ...</td>\n",
       "    </tr>\n",
       "    <tr>\n",
       "      <th>1</th>\n",
       "      <td>ham</td>\n",
       "      <td>Ok lar... Joking wif u oni...</td>\n",
       "    </tr>\n",
       "    <tr>\n",
       "      <th>2</th>\n",
       "      <td>spam</td>\n",
       "      <td>Free entry in 2 a wkly comp to win FA Cup fina...</td>\n",
       "    </tr>\n",
       "    <tr>\n",
       "      <th>3</th>\n",
       "      <td>ham</td>\n",
       "      <td>U dun say so early hor... U c already then say...</td>\n",
       "    </tr>\n",
       "    <tr>\n",
       "      <th>4</th>\n",
       "      <td>ham</td>\n",
       "      <td>Nah I don't think he goes to usf, he lives aro...</td>\n",
       "    </tr>\n",
       "  </tbody>\n",
       "</table>\n",
       "</div>"
      ],
      "text/plain": [
       "  Category                                            Message\n",
       "0      ham  Go until jurong point, crazy.. Available only ...\n",
       "1      ham                      Ok lar... Joking wif u oni...\n",
       "2     spam  Free entry in 2 a wkly comp to win FA Cup fina...\n",
       "3      ham  U dun say so early hor... U c already then say...\n",
       "4      ham  Nah I don't think he goes to usf, he lives aro..."
      ]
     },
     "execution_count": 2,
     "metadata": {},
     "output_type": "execute_result"
    }
   ],
   "source": [
    "# Load the dataset\n",
    "mail_dataset = pd.read_csv(\"./Datasets/mail_data.csv\")\n",
    "mail_dataset.head()"
   ]
  },
  {
   "cell_type": "code",
   "execution_count": 3,
   "id": "d044f134",
   "metadata": {},
   "outputs": [
    {
     "data": {
      "text/plain": [
       "(5572, 2)"
      ]
     },
     "execution_count": 3,
     "metadata": {},
     "output_type": "execute_result"
    }
   ],
   "source": [
    "# Shape of the dataset\n",
    "mail_dataset.shape"
   ]
  },
  {
   "cell_type": "code",
   "execution_count": 4,
   "id": "f82c326d",
   "metadata": {},
   "outputs": [
    {
     "data": {
      "text/html": [
       "<div>\n",
       "<style scoped>\n",
       "    .dataframe tbody tr th:only-of-type {\n",
       "        vertical-align: middle;\n",
       "    }\n",
       "\n",
       "    .dataframe tbody tr th {\n",
       "        vertical-align: top;\n",
       "    }\n",
       "\n",
       "    .dataframe thead th {\n",
       "        text-align: right;\n",
       "    }\n",
       "</style>\n",
       "<table border=\"1\" class=\"dataframe\">\n",
       "  <thead>\n",
       "    <tr style=\"text-align: right;\">\n",
       "      <th></th>\n",
       "      <th>Category</th>\n",
       "      <th>Message</th>\n",
       "    </tr>\n",
       "  </thead>\n",
       "  <tbody>\n",
       "    <tr>\n",
       "      <th>0</th>\n",
       "      <td>ham</td>\n",
       "      <td>Go until jurong point, crazy.. Available only ...</td>\n",
       "    </tr>\n",
       "    <tr>\n",
       "      <th>1</th>\n",
       "      <td>ham</td>\n",
       "      <td>Ok lar... Joking wif u oni...</td>\n",
       "    </tr>\n",
       "    <tr>\n",
       "      <th>2</th>\n",
       "      <td>spam</td>\n",
       "      <td>Free entry in 2 a wkly comp to win FA Cup fina...</td>\n",
       "    </tr>\n",
       "    <tr>\n",
       "      <th>3</th>\n",
       "      <td>ham</td>\n",
       "      <td>U dun say so early hor... U c already then say...</td>\n",
       "    </tr>\n",
       "    <tr>\n",
       "      <th>4</th>\n",
       "      <td>ham</td>\n",
       "      <td>Nah I don't think he goes to usf, he lives aro...</td>\n",
       "    </tr>\n",
       "  </tbody>\n",
       "</table>\n",
       "</div>"
      ],
      "text/plain": [
       "  Category                                            Message\n",
       "0      ham  Go until jurong point, crazy.. Available only ...\n",
       "1      ham                      Ok lar... Joking wif u oni...\n",
       "2     spam  Free entry in 2 a wkly comp to win FA Cup fina...\n",
       "3      ham  U dun say so early hor... U c already then say...\n",
       "4      ham  Nah I don't think he goes to usf, he lives aro..."
      ]
     },
     "execution_count": 4,
     "metadata": {},
     "output_type": "execute_result"
    }
   ],
   "source": [
    "# replace the null values with a null string\n",
    "mail_data = mail_dataset.where((pd.notnull(mail_dataset)),\"\")\n",
    "mail_data.head()"
   ]
  },
  {
   "cell_type": "code",
   "execution_count": 5,
   "id": "83a3a609",
   "metadata": {},
   "outputs": [
    {
     "data": {
      "text/plain": [
       "Category    0\n",
       "Message     0\n",
       "dtype: int64"
      ]
     },
     "execution_count": 5,
     "metadata": {},
     "output_type": "execute_result"
    }
   ],
   "source": [
    "# Check the missing values\n",
    "mail_data.isna().sum()"
   ]
  },
  {
   "cell_type": "code",
   "execution_count": 6,
   "id": "0871e5bd",
   "metadata": {},
   "outputs": [
    {
     "data": {
      "text/plain": [
       "ham     4825\n",
       "spam     747\n",
       "Name: Category, dtype: int64"
      ]
     },
     "execution_count": 6,
     "metadata": {},
     "output_type": "execute_result"
    }
   ],
   "source": [
    "mail_data[\"Category\"].value_counts()"
   ]
  },
  {
   "cell_type": "markdown",
   "id": "a62f0fed",
   "metadata": {},
   "source": [
    "## Imbalance Data Handling"
   ]
  },
  {
   "cell_type": "code",
   "execution_count": 7,
   "id": "9180dd50",
   "metadata": {},
   "outputs": [
    {
     "data": {
      "text/plain": [
       "(747, 2)"
      ]
     },
     "execution_count": 7,
     "metadata": {},
     "output_type": "execute_result"
    }
   ],
   "source": [
    "spam = mail_data[mail_data[\"Category\"]==\"spam\"]\n",
    "spam.shape"
   ]
  },
  {
   "cell_type": "code",
   "execution_count": 8,
   "id": "e2505729",
   "metadata": {},
   "outputs": [
    {
     "data": {
      "text/plain": [
       "(747, 2)"
      ]
     },
     "execution_count": 8,
     "metadata": {},
     "output_type": "execute_result"
    }
   ],
   "source": [
    "ham = mail_data[mail_data[\"Category\"]==\"ham\"].sample(747)\n",
    "ham.shape"
   ]
  },
  {
   "cell_type": "code",
   "execution_count": 9,
   "id": "6af67ce3",
   "metadata": {},
   "outputs": [
    {
     "data": {
      "text/plain": [
       "(1494, 2)"
      ]
     },
     "execution_count": 9,
     "metadata": {},
     "output_type": "execute_result"
    }
   ],
   "source": [
    "# concatenate to new dataset\n",
    "mail_data = pd.concat((spam, ham), axis=0)\n",
    "mail_data.shape"
   ]
  },
  {
   "cell_type": "markdown",
   "id": "58b694a7",
   "metadata": {},
   "source": [
    "## Target Feature Split"
   ]
  },
  {
   "cell_type": "code",
   "execution_count": 10,
   "id": "2b27e11e",
   "metadata": {},
   "outputs": [],
   "source": [
    "x = mail_data[\"Message\"]\n",
    "y = mail_data[\"Category\"]"
   ]
  },
  {
   "cell_type": "markdown",
   "id": "5a5541dd",
   "metadata": {},
   "source": [
    "## Label Encoding"
   ]
  },
  {
   "cell_type": "code",
   "execution_count": 11,
   "id": "650fe4de",
   "metadata": {},
   "outputs": [],
   "source": [
    "encoder = LabelEncoder()\n",
    "\n",
    "encoded_y = encoder.fit_transform(y)\n",
    "encoded_y                                      # ham = 0  /  spam = 1\n",
    "\n",
    "y = encoded_y"
   ]
  },
  {
   "cell_type": "markdown",
   "id": "73649c5b",
   "metadata": {},
   "source": [
    "## Train Test Split"
   ]
  },
  {
   "cell_type": "code",
   "execution_count": 12,
   "id": "b848a9b2",
   "metadata": {},
   "outputs": [],
   "source": [
    "x_train, x_test, y_train, y_test = train_test_split(x, y, test_size=0.2, stratify=y, random_state=42)"
   ]
  },
  {
   "cell_type": "markdown",
   "id": "6ffea671",
   "metadata": {},
   "source": [
    "## Feature Extraction"
   ]
  },
  {
   "cell_type": "code",
   "execution_count": 13,
   "id": "f0f9257c",
   "metadata": {},
   "outputs": [],
   "source": [
    "# Transform the text data to feature vectors that can be used as input to the logistic regression model\n",
    "\n",
    "feature_extraction = TfidfVectorizer(min_df=1, stop_words=\"english\", lowercase=True)    # min_df=1 give value for one word only onetime, cant repeat\n",
    "\n",
    "x_train_features = feature_extraction.fit_transform(x_train)\n",
    "x_test_features = feature_extraction.transform(x_test)\n",
    "\n",
    "# convert y_train, y_test values as integers\n",
    "y_train = y_train.astype(\"int\")\n",
    "y_test = y_test.astype(\"int\")"
   ]
  },
  {
   "cell_type": "code",
   "execution_count": 14,
   "id": "f9fab3ce",
   "metadata": {},
   "outputs": [
    {
     "name": "stdout",
     "output_type": "stream",
     "text": [
      "  (0, 108)\t0.3744736130421883\n",
      "  (0, 1139)\t0.18577316623434237\n",
      "  (0, 2584)\t0.2881308333737042\n",
      "  (0, 2190)\t0.25302403104824484\n",
      "  (0, 3231)\t0.2837238455106456\n",
      "  (0, 1616)\t0.3539374501615643\n",
      "  (0, 1876)\t0.24456300734013048\n",
      "  (0, 1067)\t0.20945620501467113\n",
      "  (0, 256)\t0.2356544248173756\n",
      "  (0, 2893)\t0.24861704318518626\n",
      "  (0, 3066)\t0.2631876826300216\n",
      "  (0, 3234)\t0.318830647836105\n",
      "  (0, 3768)\t0.2837238455106456\n",
      "  (1, 431)\t0.3235480371750644\n",
      "  (1, 1369)\t0.3235480371750644\n",
      "  (1, 2395)\t0.15368843988489325\n",
      "  (1, 1653)\t0.13609567873624578\n",
      "  (1, 702)\t0.3235480371750644\n",
      "  (1, 3521)\t0.3235480371750644\n",
      "  (1, 895)\t0.3235480371750644\n",
      "  (1, 691)\t0.2932154941378714\n",
      "  (1, 3084)\t0.18633689946155582\n",
      "  (1, 2557)\t0.26288295110067833\n",
      "  (1, 3065)\t0.3235480371750644\n",
      "  (1, 3744)\t0.2531180533076258\n",
      "  :\t:\n",
      "  (1192, 1719)\t0.19364060990618231\n",
      "  (1192, 554)\t0.18753688851016026\n",
      "  (1192, 3249)\t0.21074191895731342\n",
      "  (1192, 3779)\t0.16296522821537388\n",
      "  (1192, 3495)\t0.15267132236132264\n",
      "  (1192, 3618)\t0.11045144592504559\n",
      "  (1192, 3824)\t0.12487310262999458\n",
      "  (1192, 3582)\t0.13421914142112165\n",
      "  (1192, 2131)\t0.15686150681935188\n",
      "  (1192, 3563)\t0.10908481607741236\n",
      "  (1192, 2395)\t0.11757487403978764\n",
      "  (1192, 1653)\t0.2082320868994176\n",
      "  (1193, 3402)\t0.352341581685715\n",
      "  (1193, 1312)\t0.352341581685715\n",
      "  (1193, 1122)\t0.352341581685715\n",
      "  (1193, 708)\t0.3330191411742674\n",
      "  (1193, 3377)\t0.3086757450852792\n",
      "  (1193, 3272)\t0.29264115999803975\n",
      "  (1193, 3710)\t0.31930965145492857\n",
      "  (1193, 2189)\t0.28627772122414213\n",
      "  (1193, 2509)\t0.25632137434304514\n",
      "  (1193, 1182)\t0.21202433643620833\n",
      "  (1193, 3469)\t0.20291959875859988\n",
      "  (1194, 1372)\t0.628830342944547\n",
      "  (1194, 1305)\t0.7775425388956178\n"
     ]
    }
   ],
   "source": [
    "print(x_train_features)"
   ]
  },
  {
   "cell_type": "code",
   "execution_count": 15,
   "id": "d2cb4d96",
   "metadata": {},
   "outputs": [
    {
     "name": "stdout",
     "output_type": "stream",
     "text": [
      "  (0, 3837)\t0.2891231539605164\n",
      "  (0, 3801)\t0.29787017553982037\n",
      "  (0, 3709)\t0.38713149698642185\n",
      "  (0, 3485)\t0.22648696510220645\n",
      "  (0, 2671)\t0.218589815662123\n",
      "  (0, 2059)\t0.18335416224488774\n",
      "  (0, 2012)\t0.35083802138409603\n",
      "  (0, 1885)\t0.27507673968441504\n",
      "  (0, 1854)\t0.26157669993749444\n",
      "  (0, 1752)\t0.23295944341680835\n",
      "  (0, 1374)\t0.33915413192659827\n",
      "  (0, 845)\t0.3296076991358972\n",
      "  (1, 3499)\t0.4355271713126361\n",
      "  (1, 2692)\t0.42179897392998045\n",
      "  (1, 2194)\t0.37281192774771926\n",
      "  (1, 2130)\t0.42835063671114154\n",
      "  (1, 1986)\t0.5567124097756564\n",
      "  (2, 3791)\t0.2383152835733872\n",
      "  (2, 2316)\t0.43574238619277444\n",
      "  (2, 1273)\t0.43574238619277444\n",
      "  (2, 1219)\t0.25224689186099264\n",
      "  (2, 838)\t0.3817406537138937\n",
      "  (2, 814)\t0.31319018531043663\n",
      "  (2, 477)\t0.25773318998437805\n",
      "  (2, 370)\t0.3254274425900175\n",
      "  :\t:\n",
      "  (296, 2399)\t0.24126855868763558\n",
      "  (296, 2239)\t0.22803737163835083\n",
      "  (296, 2237)\t0.29389918722571945\n",
      "  (296, 2208)\t0.22803737163835083\n",
      "  (296, 2042)\t0.22803737163835083\n",
      "  (296, 1831)\t0.19603083137016472\n",
      "  (296, 1515)\t0.2054185079796154\n",
      "  (296, 699)\t0.24126855868763558\n",
      "  (296, 688)\t0.24126855868763558\n",
      "  (296, 609)\t0.22803737163835083\n",
      "  (296, 295)\t0.133119635224051\n",
      "  (296, 21)\t0.24126855868763558\n",
      "  (297, 3786)\t0.36679540479013306\n",
      "  (297, 3757)\t0.36679540479013306\n",
      "  (297, 3481)\t0.36679540479013306\n",
      "  (297, 2967)\t0.24149422281924\n",
      "  (297, 2434)\t0.21017688397470463\n",
      "  (297, 1966)\t0.36679540479013306\n",
      "  (297, 1936)\t0.32133829996949587\n",
      "  (297, 1913)\t0.26062690549933193\n",
      "  (297, 1653)\t0.1542870419122308\n",
      "  (297, 1179)\t0.21017688397470463\n",
      "  (297, 14)\t0.3466803154639702\n",
      "  (298, 1334)\t0.5468027110658198\n",
      "  (298, 659)\t0.8372614855414463\n"
     ]
    }
   ],
   "source": [
    "print(x_test_features)"
   ]
  },
  {
   "cell_type": "markdown",
   "id": "095a0f8b",
   "metadata": {},
   "source": [
    "## Train The Model"
   ]
  },
  {
   "cell_type": "code",
   "execution_count": 16,
   "id": "1ad258b8",
   "metadata": {},
   "outputs": [],
   "source": [
    "model = LogisticRegression()"
   ]
  },
  {
   "cell_type": "code",
   "execution_count": 17,
   "id": "9d88d83b",
   "metadata": {},
   "outputs": [
    {
     "data": {
      "text/html": [
       "<style>#sk-container-id-1 {color: black;}#sk-container-id-1 pre{padding: 0;}#sk-container-id-1 div.sk-toggleable {background-color: white;}#sk-container-id-1 label.sk-toggleable__label {cursor: pointer;display: block;width: 100%;margin-bottom: 0;padding: 0.3em;box-sizing: border-box;text-align: center;}#sk-container-id-1 label.sk-toggleable__label-arrow:before {content: \"▸\";float: left;margin-right: 0.25em;color: #696969;}#sk-container-id-1 label.sk-toggleable__label-arrow:hover:before {color: black;}#sk-container-id-1 div.sk-estimator:hover label.sk-toggleable__label-arrow:before {color: black;}#sk-container-id-1 div.sk-toggleable__content {max-height: 0;max-width: 0;overflow: hidden;text-align: left;background-color: #f0f8ff;}#sk-container-id-1 div.sk-toggleable__content pre {margin: 0.2em;color: black;border-radius: 0.25em;background-color: #f0f8ff;}#sk-container-id-1 input.sk-toggleable__control:checked~div.sk-toggleable__content {max-height: 200px;max-width: 100%;overflow: auto;}#sk-container-id-1 input.sk-toggleable__control:checked~label.sk-toggleable__label-arrow:before {content: \"▾\";}#sk-container-id-1 div.sk-estimator input.sk-toggleable__control:checked~label.sk-toggleable__label {background-color: #d4ebff;}#sk-container-id-1 div.sk-label input.sk-toggleable__control:checked~label.sk-toggleable__label {background-color: #d4ebff;}#sk-container-id-1 input.sk-hidden--visually {border: 0;clip: rect(1px 1px 1px 1px);clip: rect(1px, 1px, 1px, 1px);height: 1px;margin: -1px;overflow: hidden;padding: 0;position: absolute;width: 1px;}#sk-container-id-1 div.sk-estimator {font-family: monospace;background-color: #f0f8ff;border: 1px dotted black;border-radius: 0.25em;box-sizing: border-box;margin-bottom: 0.5em;}#sk-container-id-1 div.sk-estimator:hover {background-color: #d4ebff;}#sk-container-id-1 div.sk-parallel-item::after {content: \"\";width: 100%;border-bottom: 1px solid gray;flex-grow: 1;}#sk-container-id-1 div.sk-label:hover label.sk-toggleable__label {background-color: #d4ebff;}#sk-container-id-1 div.sk-serial::before {content: \"\";position: absolute;border-left: 1px solid gray;box-sizing: border-box;top: 0;bottom: 0;left: 50%;z-index: 0;}#sk-container-id-1 div.sk-serial {display: flex;flex-direction: column;align-items: center;background-color: white;padding-right: 0.2em;padding-left: 0.2em;position: relative;}#sk-container-id-1 div.sk-item {position: relative;z-index: 1;}#sk-container-id-1 div.sk-parallel {display: flex;align-items: stretch;justify-content: center;background-color: white;position: relative;}#sk-container-id-1 div.sk-item::before, #sk-container-id-1 div.sk-parallel-item::before {content: \"\";position: absolute;border-left: 1px solid gray;box-sizing: border-box;top: 0;bottom: 0;left: 50%;z-index: -1;}#sk-container-id-1 div.sk-parallel-item {display: flex;flex-direction: column;z-index: 1;position: relative;background-color: white;}#sk-container-id-1 div.sk-parallel-item:first-child::after {align-self: flex-end;width: 50%;}#sk-container-id-1 div.sk-parallel-item:last-child::after {align-self: flex-start;width: 50%;}#sk-container-id-1 div.sk-parallel-item:only-child::after {width: 0;}#sk-container-id-1 div.sk-dashed-wrapped {border: 1px dashed gray;margin: 0 0.4em 0.5em 0.4em;box-sizing: border-box;padding-bottom: 0.4em;background-color: white;}#sk-container-id-1 div.sk-label label {font-family: monospace;font-weight: bold;display: inline-block;line-height: 1.2em;}#sk-container-id-1 div.sk-label-container {text-align: center;}#sk-container-id-1 div.sk-container {/* jupyter's `normalize.less` sets `[hidden] { display: none; }` but bootstrap.min.css set `[hidden] { display: none !important; }` so we also need the `!important` here to be able to override the default hidden behavior on the sphinx rendered scikit-learn.org. See: https://github.com/scikit-learn/scikit-learn/issues/21755 */display: inline-block !important;position: relative;}#sk-container-id-1 div.sk-text-repr-fallback {display: none;}</style><div id=\"sk-container-id-1\" class=\"sk-top-container\"><div class=\"sk-text-repr-fallback\"><pre>LogisticRegression()</pre><b>In a Jupyter environment, please rerun this cell to show the HTML representation or trust the notebook. <br />On GitHub, the HTML representation is unable to render, please try loading this page with nbviewer.org.</b></div><div class=\"sk-container\" hidden><div class=\"sk-item\"><div class=\"sk-estimator sk-toggleable\"><input class=\"sk-toggleable__control sk-hidden--visually\" id=\"sk-estimator-id-1\" type=\"checkbox\" checked><label for=\"sk-estimator-id-1\" class=\"sk-toggleable__label sk-toggleable__label-arrow\">LogisticRegression</label><div class=\"sk-toggleable__content\"><pre>LogisticRegression()</pre></div></div></div></div></div>"
      ],
      "text/plain": [
       "LogisticRegression()"
      ]
     },
     "execution_count": 17,
     "metadata": {},
     "output_type": "execute_result"
    }
   ],
   "source": [
    "# Training the model with training data\n",
    "model.fit(x_train_features, y_train)"
   ]
  },
  {
   "cell_type": "markdown",
   "id": "9be6132d",
   "metadata": {},
   "source": [
    "## Evaluate The Model"
   ]
  },
  {
   "cell_type": "code",
   "execution_count": 18,
   "id": "98e8d245",
   "metadata": {},
   "outputs": [
    {
     "name": "stdout",
     "output_type": "stream",
     "text": [
      "Accuracy on training data:  0.9874476987447699\n"
     ]
    }
   ],
   "source": [
    "# Prediction on training data\n",
    "y_pred_train = model.predict(x_train_features)\n",
    "accuracy = accuracy_score(y_train, y_pred_train)\n",
    "\n",
    "print(\"Accuracy on training data: \", accuracy)"
   ]
  },
  {
   "cell_type": "code",
   "execution_count": 19,
   "id": "f9f0db2b",
   "metadata": {},
   "outputs": [
    {
     "name": "stdout",
     "output_type": "stream",
     "text": [
      "Accuracy on testing data:  0.9498327759197325\n"
     ]
    }
   ],
   "source": [
    "# Prediction on testing data\n",
    "y_pred_test = model.predict(x_test_features)\n",
    "accuracy = accuracy_score(y_test, y_pred_test)\n",
    "\n",
    "print(\"Accuracy on testing data: \", accuracy)"
   ]
  },
  {
   "cell_type": "code",
   "execution_count": 20,
   "id": "76ceaa6a",
   "metadata": {},
   "outputs": [
    {
     "data": {
      "text/plain": [
       "array([[148,   2],\n",
       "       [ 13, 136]], dtype=int64)"
      ]
     },
     "execution_count": 20,
     "metadata": {},
     "output_type": "execute_result"
    }
   ],
   "source": [
    "confusion_matrix(y_test, y_pred_test)"
   ]
  },
  {
   "cell_type": "code",
   "execution_count": 21,
   "id": "e1b9bf68",
   "metadata": {},
   "outputs": [
    {
     "data": {
      "text/plain": [
       "<Axes: >"
      ]
     },
     "execution_count": 21,
     "metadata": {},
     "output_type": "execute_result"
    },
    {
     "data": {
      "image/png": "[encoded data removed]",
      "text/plain": [
       "<Figure size 640x480 with 2 Axes>"
      ]
     },
     "metadata": {},
     "output_type": "display_data"
    }
   ],
   "source": [
    "sns.heatmap(data=confusion_matrix(y_test, y_pred_test))"
   ]
  },
  {
   "cell_type": "markdown",
   "id": "20b58136",
   "metadata": {},
   "source": [
    "## Building A Predictive System"
   ]
  },
  {
   "cell_type": "code",
   "execution_count": 22,
   "id": "d6b2c41e",
   "metadata": {},
   "outputs": [
    {
     "name": "stdout",
     "output_type": "stream",
     "text": [
      "Spam Mail\n"
     ]
    }
   ],
   "source": [
    "input_mail = [\"Had your mobile 11 months or more? U R entitled to Update to the latest colour mobiles with camera for Free! Call The Mobile Update Co FREE on 08002986030\"]\n",
    "\n",
    "# Convert text to feature vectors\n",
    "vector_input_mail = feature_extraction.transform(input_mail)\n",
    "\n",
    "# Making predictions\n",
    "prediction = model.predict(vector_input_mail)\n",
    "\n",
    "if prediction==0:\n",
    "    print(\"Not Spam Mail\")\n",
    "else:\n",
    "    print(\"Spam Mail\")"
   ]
  }
 ],
 "metadata": {
  "kernelspec": {
   "display_name": "Python 3 (ipykernel)",
   "language": "python",
   "name": "python3"
  },
  "language_info": {
   "codemirror_mode": {
    "name": "ipython",
    "version": 3
   },
   "file_extension": ".py",
   "mimetype": "text/x-python",
   "name": "python",
   "nbconvert_exporter": "python",
   "pygments_lexer": "ipython3",
   "version": "3.11.4"
  }
 },
 "nbformat": 4,
 "nbformat_minor": 5
}
